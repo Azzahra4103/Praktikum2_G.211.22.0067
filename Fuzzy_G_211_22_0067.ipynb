{
  "nbformat": 4,
  "nbformat_minor": 0,
  "metadata": {
    "colab": {
      "provenance": []
    },
    "kernelspec": {
      "name": "python3",
      "display_name": "Python 3"
    },
    "language_info": {
      "name": "python"
    }
  },
  "cells": [
    {
      "cell_type": "code",
      "source": [
        "# support Vector Machine\n",
        "# Importing the libraries\n",
        "\n",
        "import numpy as np\n",
        "import matplotlib.pyplot as plt\n",
        "import pandas as pd\n",
        "\n",
        "# Importing the datasets\n",
        "from google.colab import files\n",
        "uploaded = files.upload()"
      ],
      "metadata": {
        "colab": {
          "base_uri": "https://localhost:8080/",
          "height": 108
        },
        "id": "CEdC5LHzvZBe",
        "outputId": "b2afe667-bc4d-4bc3-aa63-141f368d0290"
      },
      "execution_count": null,
      "outputs": [
        {
          "output_type": "display_data",
          "data": {
            "text/plain": [
              "<IPython.core.display.HTML object>"
            ],
            "text/html": [
              "\n",
              "     <input type=\"file\" id=\"files-16a636c4-6d73-4f86-9102-03960135f9db\" name=\"files[]\" multiple disabled\n",
              "        style=\"border:none\" />\n",
              "     <output id=\"result-16a636c4-6d73-4f86-9102-03960135f9db\">\n",
              "      Upload widget is only available when the cell has been executed in the\n",
              "      current browser session. Please rerun this cell to enable.\n",
              "      </output>\n",
              "      <script>// Copyright 2017 Google LLC\n",
              "//\n",
              "// Licensed under the Apache License, Version 2.0 (the \"License\");\n",
              "// you may not use this file except in compliance with the License.\n",
              "// You may obtain a copy of the License at\n",
              "//\n",
              "//      http://www.apache.org/licenses/LICENSE-2.0\n",
              "//\n",
              "// Unless required by applicable law or agreed to in writing, software\n",
              "// distributed under the License is distributed on an \"AS IS\" BASIS,\n",
              "// WITHOUT WARRANTIES OR CONDITIONS OF ANY KIND, either express or implied.\n",
              "// See the License for the specific language governing permissions and\n",
              "// limitations under the License.\n",
              "\n",
              "/**\n",
              " * @fileoverview Helpers for google.colab Python module.\n",
              " */\n",
              "(function(scope) {\n",
              "function span(text, styleAttributes = {}) {\n",
              "  const element = document.createElement('span');\n",
              "  element.textContent = text;\n",
              "  for (const key of Object.keys(styleAttributes)) {\n",
              "    element.style[key] = styleAttributes[key];\n",
              "  }\n",
              "  return element;\n",
              "}\n",
              "\n",
              "// Max number of bytes which will be uploaded at a time.\n",
              "const MAX_PAYLOAD_SIZE = 100 * 1024;\n",
              "\n",
              "function _uploadFiles(inputId, outputId) {\n",
              "  const steps = uploadFilesStep(inputId, outputId);\n",
              "  const outputElement = document.getElementById(outputId);\n",
              "  // Cache steps on the outputElement to make it available for the next call\n",
              "  // to uploadFilesContinue from Python.\n",
              "  outputElement.steps = steps;\n",
              "\n",
              "  return _uploadFilesContinue(outputId);\n",
              "}\n",
              "\n",
              "// This is roughly an async generator (not supported in the browser yet),\n",
              "// where there are multiple asynchronous steps and the Python side is going\n",
              "// to poll for completion of each step.\n",
              "// This uses a Promise to block the python side on completion of each step,\n",
              "// then passes the result of the previous step as the input to the next step.\n",
              "function _uploadFilesContinue(outputId) {\n",
              "  const outputElement = document.getElementById(outputId);\n",
              "  const steps = outputElement.steps;\n",
              "\n",
              "  const next = steps.next(outputElement.lastPromiseValue);\n",
              "  return Promise.resolve(next.value.promise).then((value) => {\n",
              "    // Cache the last promise value to make it available to the next\n",
              "    // step of the generator.\n",
              "    outputElement.lastPromiseValue = value;\n",
              "    return next.value.response;\n",
              "  });\n",
              "}\n",
              "\n",
              "/**\n",
              " * Generator function which is called between each async step of the upload\n",
              " * process.\n",
              " * @param {string} inputId Element ID of the input file picker element.\n",
              " * @param {string} outputId Element ID of the output display.\n",
              " * @return {!Iterable<!Object>} Iterable of next steps.\n",
              " */\n",
              "function* uploadFilesStep(inputId, outputId) {\n",
              "  const inputElement = document.getElementById(inputId);\n",
              "  inputElement.disabled = false;\n",
              "\n",
              "  const outputElement = document.getElementById(outputId);\n",
              "  outputElement.innerHTML = '';\n",
              "\n",
              "  const pickedPromise = new Promise((resolve) => {\n",
              "    inputElement.addEventListener('change', (e) => {\n",
              "      resolve(e.target.files);\n",
              "    });\n",
              "  });\n",
              "\n",
              "  const cancel = document.createElement('button');\n",
              "  inputElement.parentElement.appendChild(cancel);\n",
              "  cancel.textContent = 'Cancel upload';\n",
              "  const cancelPromise = new Promise((resolve) => {\n",
              "    cancel.onclick = () => {\n",
              "      resolve(null);\n",
              "    };\n",
              "  });\n",
              "\n",
              "  // Wait for the user to pick the files.\n",
              "  const files = yield {\n",
              "    promise: Promise.race([pickedPromise, cancelPromise]),\n",
              "    response: {\n",
              "      action: 'starting',\n",
              "    }\n",
              "  };\n",
              "\n",
              "  cancel.remove();\n",
              "\n",
              "  // Disable the input element since further picks are not allowed.\n",
              "  inputElement.disabled = true;\n",
              "\n",
              "  if (!files) {\n",
              "    return {\n",
              "      response: {\n",
              "        action: 'complete',\n",
              "      }\n",
              "    };\n",
              "  }\n",
              "\n",
              "  for (const file of files) {\n",
              "    const li = document.createElement('li');\n",
              "    li.append(span(file.name, {fontWeight: 'bold'}));\n",
              "    li.append(span(\n",
              "        `(${file.type || 'n/a'}) - ${file.size} bytes, ` +\n",
              "        `last modified: ${\n",
              "            file.lastModifiedDate ? file.lastModifiedDate.toLocaleDateString() :\n",
              "                                    'n/a'} - `));\n",
              "    const percent = span('0% done');\n",
              "    li.appendChild(percent);\n",
              "\n",
              "    outputElement.appendChild(li);\n",
              "\n",
              "    const fileDataPromise = new Promise((resolve) => {\n",
              "      const reader = new FileReader();\n",
              "      reader.onload = (e) => {\n",
              "        resolve(e.target.result);\n",
              "      };\n",
              "      reader.readAsArrayBuffer(file);\n",
              "    });\n",
              "    // Wait for the data to be ready.\n",
              "    let fileData = yield {\n",
              "      promise: fileDataPromise,\n",
              "      response: {\n",
              "        action: 'continue',\n",
              "      }\n",
              "    };\n",
              "\n",
              "    // Use a chunked sending to avoid message size limits. See b/62115660.\n",
              "    let position = 0;\n",
              "    do {\n",
              "      const length = Math.min(fileData.byteLength - position, MAX_PAYLOAD_SIZE);\n",
              "      const chunk = new Uint8Array(fileData, position, length);\n",
              "      position += length;\n",
              "\n",
              "      const base64 = btoa(String.fromCharCode.apply(null, chunk));\n",
              "      yield {\n",
              "        response: {\n",
              "          action: 'append',\n",
              "          file: file.name,\n",
              "          data: base64,\n",
              "        },\n",
              "      };\n",
              "\n",
              "      let percentDone = fileData.byteLength === 0 ?\n",
              "          100 :\n",
              "          Math.round((position / fileData.byteLength) * 100);\n",
              "      percent.textContent = `${percentDone}% done`;\n",
              "\n",
              "    } while (position < fileData.byteLength);\n",
              "  }\n",
              "\n",
              "  // All done.\n",
              "  yield {\n",
              "    response: {\n",
              "      action: 'complete',\n",
              "    }\n",
              "  };\n",
              "}\n",
              "\n",
              "scope.google = scope.google || {};\n",
              "scope.google.colab = scope.google.colab || {};\n",
              "scope.google.colab._files = {\n",
              "  _uploadFiles,\n",
              "  _uploadFilesContinue,\n",
              "};\n",
              "})(self);\n",
              "</script> "
            ]
          },
          "metadata": {}
        },
        {
          "output_type": "stream",
          "name": "stdout",
          "text": [
            "Saving Data.csv to Data.csv\n",
            "Saving wine.csv to wine.csv\n"
          ]
        }
      ]
    },
    {
      "cell_type": "code",
      "execution_count": null,
      "metadata": {
        "id": "lNednYQxLyI_"
      },
      "outputs": [],
      "source": [
        "# import librari\n",
        "\n",
        "import pandas as pd\n",
        "import numpy as np\n",
        "import random\n",
        "import operator\n",
        "import math"
      ]
    },
    {
      "cell_type": "code",
      "source": [
        "# reading the input csv file\n",
        "df_full = pd.read_csv(\"Data.csv\")\n",
        "columns = list(df_full.columns)\n",
        "features = columns[:len(columns)-1]\n",
        "class_labels = list(df_full[columns[-1]])\n",
        "df = df_full[features]"
      ],
      "metadata": {
        "id": "qtj2W2qLwHxP"
      },
      "execution_count": null,
      "outputs": []
    },
    {
      "cell_type": "code",
      "source": [
        "# jumlah atribut\n",
        "Num_attr = len(df.columns)\n",
        "\n",
        "#jumlah cluster\n",
        "k = 2\n",
        "\n",
        "#maksimum iterasi\n",
        "MAX_ITER = 100\n",
        "\n",
        "#jumlah data poin\n",
        "n = len(df)\n",
        "\n",
        "# fuzzy parameter\n",
        "m = 2.00"
      ],
      "metadata": {
        "id": "RIuFAnG5Mj3V"
      },
      "execution_count": null,
      "outputs": []
    },
    {
      "cell_type": "code",
      "source": [
        "# fungsi akurasi untuk menghitung akurasi dari hasil\n",
        "\n",
        "def accuracy(cluster_labels, class_labels):\n",
        "    county = [0,0]\n",
        "    countn = [0,0]\n",
        "    tp = [0, 0]\n",
        "    tn = [0, 0]\n",
        "    fp = [0, 0]\n",
        "    fn = [0, 0]\n",
        "\n",
        "    for i in range(len(df)):\n",
        "        #Yes = 1, No = 0\n",
        "        if cluster_labels[i] == 1 and class_labels[i] == 'Yes':\n",
        "          tp[0] = tp[0] + 1\n",
        "        if cluster_labels[i] == 0 and class_labels[i] == 'No':\n",
        "          tn[0] = tn[0] + 1\n",
        "        if cluster_labels[i] == 1 and class_labels[i] == 'No':\n",
        "          fp[0]= fp[0] + 1\n",
        "        if cluster_labels[i] == 0 and class_labels[i] == 'Yes':\n",
        "          fn[0]= fn[0] + 1\n",
        "    for i in range(len(df)):\n",
        "\n",
        "        # Yes = 0, No = 1\n",
        "        if cluster_labels[i] == 0 and class_labels[i] == 'Yes':\n",
        "          tp[1] = tp[1] + 1\n",
        "        if cluster_labels[i] == 1 and class_labels[i] == 'No':\n",
        "          tn[1] = tn[1] + 1\n",
        "        if cluster_labels[i] == 0 and class_labels[i] == 'No':\n",
        "          fp[1] = fp[1] +1\n",
        "        if cluster_labels[i] == 1 and class_labels[i] == 'Yes':\n",
        "          fn[1] = fn[1] + 1\n",
        "\n",
        "    a0 = float((tp[0] + tn[0]))/(tp[0] + tn[0] + fn[0] + fp[0])\n",
        "    a1 = float((tp[1] + tn[1]))/(tp[1] + tn[1] + fn[1] + fp[1])\n",
        "    p0 = float(tp[0])/(tp[0] + fp[0])\n",
        "    p1 = float(tp[1])/(tp[1] + fp[1])\n",
        "    r0 = float(tp[0])/(tp[0] + fn[0])\n",
        "    r1 = float(tp[1])/(tp[1] + fn[1])\n",
        "\n",
        "    accuracy = [a0*100, a1*100]\n",
        "    precision = [p0*100,p1*100]\n",
        "    recall = [r0*100, r1*100]\n",
        "\n",
        "    return accuracy, precision, recall"
      ],
      "metadata": {
        "id": "UKMP6bFpx5Xn"
      },
      "execution_count": null,
      "outputs": []
    },
    {
      "cell_type": "code",
      "source": [
        "### Inisialisasi jumlah matriks dengan random values\n",
        "def initializeMembershipMatrix():\n",
        "    membership_mat = list()\n",
        "    for i in range(n):\n",
        "        random_num_list = [random.random() for i in range(k)]\n",
        "        summation = sum(random_num_list)\n",
        "        temp_list = [x/summation for x in random_num_list]\n",
        "        membership_mat.append(temp_list)\n",
        "    return membership_mat"
      ],
      "metadata": {
        "id": "az7mXXDAzEO7"
      },
      "execution_count": null,
      "outputs": []
    },
    {
      "cell_type": "code",
      "source": [
        "### Menghitung pusat cluster dengan setiap interasi\n",
        "def calculateClusterCenter(membership_mat):\n",
        "    cluster_mem_val = zip(*membership_mat)\n",
        "    cluster_centers = list()\n",
        "    for j in range(k):\n",
        "        x = list(zip(*membership_mat))[j]\n",
        "        xraised = [e ** m for e in x]\n",
        "        denominator = sum(xraised)\n",
        "        temp_num = list()\n",
        "        for i in range(n):\n",
        "            data_point = list(df.iloc[i])\n",
        "            prod = [xraised[i] * val for val in data_point]\n",
        "            temp_num.append(prod)\n",
        "        numerator = map(sum, zip(*temp_num))\n",
        "        center = [z/denominator for z in numerator]\n",
        "        cluster_centers.append(center)\n",
        "    return cluster_centers"
      ],
      "metadata": {
        "id": "kFjiNNCgzbr7"
      },
      "execution_count": null,
      "outputs": []
    },
    {
      "cell_type": "code",
      "source": [
        "### Update nilai anggota dengan pusat cluster\n",
        "\n",
        "def updateMembershipValue(membership_mat, cluster_centers):\n",
        "    p = float(2/(m-1))\n",
        "    for i in range(n):\n",
        "        x = list(df.iloc[i])\n",
        "        distances = [np.linalg.norm(np.array(list(map(operator.sub, x, cluster_centers[j])))) for j in range(k)]\n",
        "        for j in range(k):\n",
        "            den = sum([math.pow(float(distances[j]/distances[c]), p) for c in range(k)])\n",
        "            membership_mat[i][j] = float(1/den)\n",
        "    return membership_mat"
      ],
      "metadata": {
        "id": "AFR3V3vEzuyB"
      },
      "execution_count": null,
      "outputs": []
    },
    {
      "cell_type": "code",
      "source": [
        "def getClusters(membership_mat):\n",
        "    cluster_labels = list()\n",
        "    for i in range(n):\n",
        "        max_val, idx = max((val, idx) for (idx, val) in enumerate(membership_mat[i]))\n",
        "        cluster_labels.append(idx)\n",
        "    return cluster_labels"
      ],
      "metadata": {
        "id": "w6EQprsmz5c0"
      },
      "execution_count": null,
      "outputs": []
    },
    {
      "cell_type": "code",
      "source": [
        "### Final fungsi FCM\n",
        "def fuzzyCMeansClustering():\n",
        "    # Membership Matrix\n",
        "    membership_mat = initializeMembershipMatrix()\n",
        "    curr = 0\n",
        "    while curr <= MAX_ITER:\n",
        "        cluster_centers = calculateClusterCenter(membership_mat)\n",
        "        membership_mat = updateMembershipValue(membership_mat, cluster_centers)\n",
        "        cluster_labels = getClusters(membership_mat)\n",
        "        curr += 1\n",
        "\n",
        "    print(membership_mat)\n",
        "    return cluster_labels, cluster_centers"
      ],
      "metadata": {
        "id": "H0M83DLo0GLY"
      },
      "execution_count": null,
      "outputs": []
    },
    {
      "cell_type": "code",
      "source": [
        "### Memanggil fungsi utama dan mengirimkan hasil akhir dalam label dan pusat cluster\n",
        "print(\"printing the final membership matrix\")\n",
        "labels, centers = fuzzyCMeansClustering()\n",
        "print(\"printing cluster centers\")\n",
        "print(centers)"
      ],
      "metadata": {
        "colab": {
          "base_uri": "https://localhost:8080/"
        },
        "id": "fu3dUxdE0UWS",
        "outputId": "ba7bb7ba-a400-42e7-9cbb-db189fb03ca8"
      },
      "execution_count": null,
      "outputs": [
        {
          "output_type": "stream",
          "name": "stdout",
          "text": [
            "printing the final membership matrix\n",
            "[[0.4957462611210125, 0.5042537388789874], [0.502418270082835, 0.49758172991716504], [0.500385333209115, 0.499614666790885], [0.5027059179025961, 0.4972940820974039], [0.49803502204083844, 0.5019649779591616], [0.4946497772174961, 0.5053502227825039], [0.4968781110008724, 0.5031218889991275], [0.495853697514721, 0.5041463024852789], [0.4986298073777691, 0.501370192622231], [0.4943590288418146, 0.5056409711581853], [0.49698558070179794, 0.5030144192982021], [0.497362701080553, 0.502637298919447], [0.5009192696889299, 0.49908073031107014], [0.49604014360392584, 0.5039598563960741], [0.49561649978480843, 0.5043835002151916], [0.4975906831660797, 0.5024093168339203], [0.4939396999046473, 0.5060603000953527], [0.49843535404556805, 0.501564645954432], [0.4989509380771592, 0.5010490619228408], [0.5042728276548555, 0.4957271723451445], [0.49543058308403276, 0.5045694169159672], [0.4950120978844835, 0.5049879021155165], [0.5039578855626842, 0.4960421144373159], [0.4962879076182367, 0.5037120923817634], [0.4955868477362668, 0.5044131522637332], [0.49901684423182385, 0.5009831557681762], [0.49721070528627864, 0.5027892947137214], [0.4966649460913223, 0.5033350539086777], [0.4946400722612791, 0.5053599277387208], [0.4929558731849606, 0.5070441268150395], [0.5018681971742887, 0.4981318028257114], [0.5009847997724172, 0.4990152002275829], [0.4930688613929823, 0.5069311386070178], [0.4952956174880508, 0.5047043825119492], [0.4990943613405728, 0.5009056386594272], [0.4961747190751899, 0.5038252809248102], [0.5010450106415176, 0.4989549893584824], [0.5043758013941255, 0.49562419860587453], [0.49298799562801604, 0.5070120043719839], [0.4971432694345326, 0.5028567305654674], [0.49399887961358896, 0.5060011203864109], [0.49788788819372676, 0.5021121118062731], [0.4940630458836132, 0.5059369541163867], [0.4966508565939101, 0.5033491434060898], [0.5029001407691555, 0.49709985923084465], [0.4971543930378215, 0.5028456069621784], [0.493471587108121, 0.506528412891879], [0.4956842614741145, 0.5043157385258855], [0.5004629637449105, 0.49953703625508955], [0.50393978509162, 0.4960602149083801], [0.5034781893420952, 0.49652181065790485], [0.4937752427146737, 0.5062247572853263], [0.5026378055861835, 0.4973621944138164], [0.5031764104364579, 0.4968235895635421], [0.5029960562012881, 0.497003943798712], [0.4982562395175234, 0.5017437604824765], [0.5029996092632647, 0.49700039073673535], [0.5013203269454548, 0.4986796730545452], [0.4984555515595597, 0.5015444484404403], [0.5006315719893475, 0.49936842801065257], [0.4998880075213506, 0.5001119924786496], [0.4948514885194398, 0.5051485114805603], [0.49370170679268977, 0.5062982932073102], [0.4941881163025749, 0.5058118836974251], [0.49382530510239964, 0.5061746948976004], [0.498089480883007, 0.501910519116993], [0.49731077098077864, 0.5026892290192213], [0.4982552933306911, 0.5017447066693089], [0.4940756231269092, 0.5059243768730908], [0.49397913071782523, 0.5060208692821747], [0.4957728858445017, 0.5042271141554984], [0.4948911260080497, 0.5051088739919504], [0.49308897242165434, 0.5069110275783456], [0.500081781884311, 0.499918218115689], [0.4942476233827566, 0.5057523766172434], [0.5000558669612319, 0.49994413303876806], [0.4997199324171894, 0.5002800675828106], [0.49242373162232134, 0.5075762683776787], [0.5026285928336846, 0.49737140716631545], [0.5039001888643451, 0.496099811135655], [0.4952237533995616, 0.5047762466004384], [0.49628588701161963, 0.5037141129883803], [0.4929042997694193, 0.5070957002305807], [0.49751168701105475, 0.5024883129889454], [0.4943374634679016, 0.5056625365320985], [0.49470820879874916, 0.5052917912012509], [0.49664127169781547, 0.5033587283021845], [0.4979808937923817, 0.5020191062076182], [0.4965336747371405, 0.5034663252628595], [0.49419900778781256, 0.5058009922121874], [0.49462863530566237, 0.5053713646943377], [0.503556867769311, 0.49644313223068903], [0.5009663297144151, 0.49903367028558493], [0.4946022750117797, 0.5053977249882202], [0.4950333169937883, 0.5049666830062116], [0.5002191429691202, 0.4997808570308798], [0.5014954254864575, 0.49850457451354246], [0.4935394086490677, 0.5064605913509324], [0.4977849500825382, 0.5022150499174619], [0.5012899854071058, 0.4987100145928942], [0.4968880936969937, 0.5031119063030064], [0.5009844118503894, 0.49901558814961045], [0.5010449749093108, 0.49895502509068934], [0.5022914970765315, 0.4977085029234684], [0.49646241580748685, 0.503537584192513], [0.501819709574194, 0.49818029042580597], [0.49516620503070513, 0.5048337949692949], [0.5030654800066559, 0.49693451999334415], [0.5006578621837697, 0.4993421378162303], [0.49290897951356943, 0.5070910204864306]]\n",
            "printing cluster centers\n",
            "[[67.45111587937744, 66.85117419588912, 69.4804542343693, 70.2112759111209, 67.16260209369831, 67.1697864157235, 71.32266861796074, 71.2022259463437, 63.891968145254104, 63.502508397045176, 70.07925432574368, 70.68239801800074, 67.96068504381292, 68.95541125509634, 64.14230039079317, 61.87432412518074, 68.4073624573289, 67.35168639525993, 66.53164911118853, 64.3624106927063, 74.26164939869645, 72.93586581019024, 68.32337756462336, 68.0457003183012, 60.13998355236603, 59.18531525802396, 62.80207375491697, 61.634186063307304, 64.24876252179159, 63.32461203146955, 71.66677407114935, 72.15320043302589, 62.13764814556867, 62.38852550754034, 65.3814892729593, 64.80414968959538, 65.72132743021848, 64.89289842496353, 68.87612336005509, 67.47550232931529, 66.01410134736646, 64.23141416073732, 55.51582000196826, 54.06517308079254], [67.43997892498957, 66.85796150395379, 69.50129487715964, 70.26123337186854, 67.20083989979237, 67.24794449514603, 71.33196049364616, 71.23400835486495, 63.908002499312005, 63.53371920381736, 70.0844369052162, 70.69945120134817, 68.02078091417644, 69.04410126914871, 64.23887995880115, 62.01566125735755, 68.42893843507305, 67.39353863589128, 66.57706977032497, 64.43717945632282, 74.26567234495313, 72.97303123455377, 68.42146881349925, 68.18976999765455, 60.349581370408174, 59.43123255826704, 62.870334592938434, 61.72894198367499, 64.33267734888645, 63.45653058546618, 71.69674877482267, 72.22824322604808, 62.17128465588387, 62.44750086818331, 65.41833150148243, 64.86823580224609, 65.73322426336367, 64.9252086944442, 68.97782294121987, 67.59656797134629, 66.20284881005414, 64.47604388651641, 55.7192332261221, 54.31497804008718]]\n"
          ]
        }
      ]
    },
    {
      "cell_type": "code",
      "source": [
        "### measuring the accuracy of the result\n",
        "a,p,r = accuracy(labels, class_labels)\n",
        "\n",
        "### printing the values\n",
        "print(\"Accuracy = \" + str(a))\n",
        "print(\"Precision = \" + str(p))\n",
        "print(\"Recall = \" + str(r))"
      ],
      "metadata": {
        "id": "5TOF4iun0cCP",
        "outputId": "f25974be-b387-4b91-a127-41c8e58409f5",
        "colab": {
          "base_uri": "https://localhost:8080/"
        }
      },
      "execution_count": null,
      "outputs": [
        {
          "output_type": "stream",
          "name": "stdout",
          "text": [
            "Accuracy = [25.454545454545453, 74.54545454545455]\n",
            "Precision = [32.0, 88.57142857142857]\n",
            "Recall = [43.63636363636363, 56.36363636363636]\n"
          ]
        }
      ]
    }
  ]
}